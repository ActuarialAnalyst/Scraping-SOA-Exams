{
 "cells": [
  {
   "cell_type": "markdown",
   "metadata": {},
   "source": [
    "# Scraping Exam Info from the SOA"
   ]
  },
  {
   "cell_type": "markdown",
   "metadata": {},
   "source": [
    "## Download Results Files and Packages\n",
    "Information for exam passers in 2018 is available here:\n",
    "https://www.soa.org/education/general-info/exam-results/edu-exam-results-archive.aspx\n",
    "\n",
    "We download packages for reading pdfs, using regular expressions, and interacting with our file directories."
   ]
  },
  {
   "cell_type": "code",
   "execution_count": 1,
   "metadata": {},
   "outputs": [],
   "source": [
    "import PyPDF2\n",
    "import re\n",
    "import os"
   ]
  },
  {
   "cell_type": "markdown",
   "metadata": {},
   "source": [
    "## Extracting Names from a PDF\n",
    "There are a lot of files to extract the names from. First lets figure out how to do a single file then we will work on iterating over all of the files. \n",
    "\n",
    "There are multiple pages so we iterate through the pages using a regular expression to extract all the names on each page. The names come as an ordered list so we use a regular expression to pick up text starting with a number and a period and ending before we hit any more numbers."
   ]
  },
  {
   "cell_type": "code",
   "execution_count": 10,
   "metadata": {},
   "outputs": [
    {
     "data": {
      "text/plain": [
       "['1. Ab Manan, Muhd Azman Firdaus   \\n',\n",
       " '2. Abadeer, Mirette   \\n',\n",
       " '3. Abbott, Anthony   \\n',\n",
       " '4. Abramova, Rena   \\n',\n",
       " '5. Adair, Liam Alexander  \\n',\n",
       " '6. Adams, Brooke   \\n',\n",
       " '7. Adler, Justin   \\n',\n",
       " '8. Agcaoili, Ramon Vicente Rimando  \\n',\n",
       " '9. Ahmad, Osman   \\n']"
      ]
     },
     "execution_count": 10,
     "metadata": {},
     "output_type": "execute_result"
    }
   ],
   "source": [
    "#Regular expression for extracting names.\n",
    "#A simpler regex will break for people with numbers in their names (example: \"3rd\")\n",
    "regexName = re.compile(r'\\d+\\.\\s[^,]+,\\s[^0-9]+')\n",
    "\n",
    "def scrapeNames(path):\n",
    "    #Use pdf reader\n",
    "    pdfFileObj=open(path, \"rb\")\n",
    "    pdfReader = PyPDF2.PdfFileReader(pdfFileObj)\n",
    "    #Iterate over pages and extract all names\n",
    "    maxPage = pdfReader.numPages\n",
    "    allNames = []\n",
    "    for pageNum in range(0,maxPage):\n",
    "        pageText = pdfReader.getPage(pageNum).extractText()\n",
    "        allNames += regexName.findall(pageText)\n",
    "    return allNames\n",
    "\n",
    "#Extract names and examine output.\n",
    "rawNames = scrapeNames(\"./edu-2018-02-c-names-ajl65e.pdf\") #This is from the downloaded zip.\n",
    "rawNames[0:9]"
   ]
  },
  {
   "cell_type": "markdown",
   "metadata": {},
   "source": [
    "We want to extract the first and last names of each exam taker. We remove the numbers at the start of each line and the extra text at the end of each line and split each string into a list of two strings for first and last name."
   ]
  },
  {
   "cell_type": "code",
   "execution_count": 11,
   "metadata": {},
   "outputs": [
    {
     "data": {
      "text/plain": [
       "[['Ab Manan', 'Muhd Azman Firdaus'],\n",
       " ['Abadeer', 'Mirette'],\n",
       " ['Abbott', 'Anthony'],\n",
       " ['Abramova', 'Rena'],\n",
       " ['Adair', 'Liam Alexander'],\n",
       " ['Adams', 'Brooke'],\n",
       " ['Adler', 'Justin'],\n",
       " ['Agcaoili', 'Ramon Vicente Rimando'],\n",
       " ['Ahmad', 'Osman']]"
      ]
     },
     "execution_count": 11,
     "metadata": {},
     "output_type": "execute_result"
    }
   ],
   "source": [
    "def formatName(nameString):\n",
    "    nameString = re.sub(r'^[0-9]+\\.\\s','',nameString) #Remove Leading Numbers\n",
    "    nameString = re.sub('\\n','',nameString) #Remove newline\n",
    "    nameString = nameString.rstrip() #Remove trailing whitespace\n",
    "    namePair = nameString.split(\", \", 1) #Split strings\n",
    "    return namePair\n",
    "\n",
    "[formatName(name) for name in rawNames][0:9]"
   ]
  },
  {
   "cell_type": "markdown",
   "metadata": {},
   "source": [
    "## Extract From All PDFs and Combine Results"
   ]
  },
  {
   "cell_type": "code",
   "execution_count": 13,
   "metadata": {},
   "outputs": [
    {
     "data": {
      "text/plain": [
       "['Exam CFEFD',\n",
       " 'Exam CFESDM',\n",
       " 'Exam EA1',\n",
       " 'Exam EA2F',\n",
       " 'Exam EA2L',\n",
       " 'Exam ERM',\n",
       " 'Exam FM',\n",
       " 'Exam GHADV',\n",
       " 'Exam GHCORC']"
      ]
     },
     "execution_count": 13,
     "metadata": {},
     "output_type": "execute_result"
    }
   ],
   "source": [
    "os.listdir(\"edu-names-2018\")[0:9] #This is the downloaded zip before we do any cleaning."
   ]
  },
  {
   "cell_type": "markdown",
   "metadata": {},
   "source": [
    "Some of the exams changed in 2018 which made the file structure not as nice. We split the \"Exam IFM-MFE\" exam into folders \"Exam IFM\" and \"Exam MFE\" manually. We do the same for \"Exam LTAM-MLC\" and \"Exam STAM-C\". We also change \"Exam-SRM\" to \"Exam SRM\" for consistency. The described changes are in \"edu-names-2018\".\n",
    "\n",
    "We make a list containing the path to every pdf. We scrape every file in the list to get the names of our exam takers."
   ]
  },
  {
   "cell_type": "code",
   "execution_count": 17,
   "metadata": {},
   "outputs": [
    {
     "data": {
      "text/plain": [
       "['edu-names-2018-modified/Exam C/edu-2018-02-c-names-ajl65e.pdf',\n",
       " 'edu-names-2018-modified/Exam C/edu-2018-06-c-names-afaert6.pdf',\n",
       " 'edu-names-2018-modified/Exam CFEFD/edu-2018-04-cfefd-names-je7hd9.pdf',\n",
       " 'edu-names-2018-modified/Exam CFEFD/edu-2018-10-cfefd-names-je7hds.pdf',\n",
       " 'edu-names-2018-modified/Exam CFESDM/edu-2018-04-cfesdm-names-2de9w0.pdf',\n",
       " 'edu-names-2018-modified/Exam CFESDM/edu-2018-11-cfesdm-names-2de9ws.pdf',\n",
       " 'edu-names-2018-modified/Exam EA1/edu-2018-05-ea1-names-eeyiuahr8.pdf',\n",
       " 'edu-names-2018-modified/Exam EA2F/edu-2018-11-ea2f-names-fiojfe89.pdf',\n",
       " 'edu-names-2018-modified/Exam EA2L/edu-2018-05-ea2l-names-jdtyu7.pdf']"
      ]
     },
     "execution_count": 17,
     "metadata": {},
     "output_type": "execute_result"
    }
   ],
   "source": [
    "examFolders = [\"edu-names-2018-modified/\" + examPath for examPath in os.listdir(\"edu-names-2018-modified\") if \"Exam\" in examPath] #Full path for exam folders\n",
    "\n",
    "examFiles = []\n",
    "for examFolder in examFolders:\n",
    "    for resultFile in os.listdir(examFolder):\n",
    "        if \"names\" in resultFile:\n",
    "            examFiles.append(examFolder + \"/\" + resultFile)\n",
    "\n",
    "examFiles[0:9]"
   ]
  },
  {
   "cell_type": "markdown",
   "metadata": {},
   "source": [
    "We scrape every name in every file and add it to a list. We use the file paths to fill in information for which exam was passed and when it was passed."
   ]
  },
  {
   "cell_type": "code",
   "execution_count": 19,
   "metadata": {},
   "outputs": [
    {
     "data": {
      "text/plain": [
       "[['Ab Manan', 'Muhd Azman Firdaus', 'Exam C', '2018-02'],\n",
       " ['Abadeer', 'Mirette', 'Exam C', '2018-02'],\n",
       " ['Abbott', 'Anthony', 'Exam C', '2018-02'],\n",
       " ['Abramova', 'Rena', 'Exam C', '2018-02'],\n",
       " ['Adair', 'Liam Alexander', 'Exam C', '2018-02'],\n",
       " ['Adams', 'Brooke', 'Exam C', '2018-02'],\n",
       " ['Adler', 'Justin', 'Exam C', '2018-02'],\n",
       " ['Agcaoili', 'Ramon Vicente Rimando', 'Exam C', '2018-02'],\n",
       " ['Ahmad', 'Osman', 'Exam C', '2018-02']]"
      ]
     },
     "execution_count": 19,
     "metadata": {},
     "output_type": "execute_result"
    }
   ],
   "source": [
    "regexExamName = re.compile(r'Exam\\s[A-Z]*')\n",
    "regexDate = re.compile(r'[0-9]{4}-[0-9]{2}')\n",
    "\n",
    "allNames = []\n",
    "for file in examFiles:\n",
    "    examInfo = regexExamName.search(file).group()\n",
    "    monthInfo = regexDate.search(file).group()\n",
    "    rawNames = scrapeNames(file)\n",
    "    formattedNames = [formatName(name) for name in rawNames]\n",
    "    for name in formattedNames:\n",
    "        allNames.append([name[0], name[1], examInfo, monthInfo])\n",
    "allNames[0:9]"
   ]
  },
  {
   "cell_type": "markdown",
   "metadata": {},
   "source": [
    "We convert this list of lists to a pandas data frame for analysis."
   ]
  },
  {
   "cell_type": "code",
   "execution_count": 20,
   "metadata": {},
   "outputs": [
    {
     "data": {
      "text/plain": [
       "exam\n",
       "Exam P           4793\n",
       "Exam FM          4740\n",
       "Exam C           2604\n",
       "Exam IFM         2078\n",
       "Exam MFE         1365\n",
       "Exam MLC          853\n",
       "Exam LTAM         753\n",
       "Exam STAM         586\n",
       "Exam ILALP        578\n",
       "Exam PA           524\n",
       "Exam GHCORU       393\n",
       "Exam ILALFVU      324\n",
       "Exam GHADV        318\n",
       "Exam ILALRM       318\n",
       "Exam EA           292\n",
       "Exam ERM          278\n",
       "Exam GHSPC        199\n",
       "Exam QFICORE      169\n",
       "Exam QFIADV       139\n",
       "Exam QFIIRM       126\n",
       "Exam SRM          116\n",
       "Exam RETRPIRM      95\n",
       "Exam CFESDM        79\n",
       "Exam CFEFD         75\n",
       "Exam RETFRC        60\n",
       "Exam RETDAU        48\n",
       "Exam RETDAC        42\n",
       "Exam ILALFVC       40\n",
       "Exam GIINT         20\n",
       "Exam GHCORC        10\n",
       "Exam GIADV          5\n",
       "Exam GIIRR          4\n",
       "Exam GIFREU         2\n",
       "Name: exam, dtype: int64"
      ]
     },
     "execution_count": 20,
     "metadata": {},
     "output_type": "execute_result"
    }
   ],
   "source": [
    "import pandas as pd\n",
    "df = pd.DataFrame(allNames, columns = ['first', 'last', 'exam', 'date'])\n",
    "df.groupby(['exam'])['exam'].count().sort_values(ascending=False)"
   ]
  }
 ],
 "metadata": {
  "kernelspec": {
   "display_name": "Python 3",
   "language": "python",
   "name": "python3"
  },
  "language_info": {
   "codemirror_mode": {
    "name": "ipython",
    "version": 3
   },
   "file_extension": ".py",
   "mimetype": "text/x-python",
   "name": "python",
   "nbconvert_exporter": "python",
   "pygments_lexer": "ipython3",
   "version": "3.8.1"
  }
 },
 "nbformat": 4,
 "nbformat_minor": 2
}
